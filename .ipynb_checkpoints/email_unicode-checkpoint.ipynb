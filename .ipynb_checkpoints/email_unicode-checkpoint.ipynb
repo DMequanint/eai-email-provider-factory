{
 "cells": [
  {
   "cell_type": "code",
   "execution_count": null,
   "id": "b68077c9-c2b0-4f2f-81c5-71f368615b49",
   "metadata": {},
   "outputs": [],
   "source": []
  }
 ],
 "metadata": {
  "kernelspec": {
   "display_name": "Python 3 (ipykernel)",
   "language": "python",
   "name": "python3"
  },
  "language_info": {
   "codemirror_mode": {
    "name": "ipython",
    "version": 3
   },
   "file_extension": ".py",
   "mimetype": "text/x-python",
   "name": "python",
   "nbconvert_exporter": "python",
   "pygments_lexer": "ipython3",
   "version": "3.10.12"
  }
 },
 "nbformat": 4,
 "nbformat_minor": 5
}
